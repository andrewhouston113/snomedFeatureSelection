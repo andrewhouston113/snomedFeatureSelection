{
 "cells": [
  {
   "cell_type": "code",
   "execution_count": 7,
   "metadata": {},
   "outputs": [],
   "source": [
    "import pandas as pd\n",
    "from snomedGraphTool.graph import SNOMEDGraphTool\n",
    "from snomedGraphTool.scorers import agg_difference"
   ]
  },
  {
   "cell_type": "code",
   "execution_count": 8,
   "metadata": {},
   "outputs": [],
   "source": [
    "# Read graph files\n",
    "relationships_file = 'data/sct2_Relationship_Full_INT_20240201.txt'\n",
    "descriptions_file = 'data/sct2_Description_Full-en_INT_20240201.txt'\n",
    "\n",
    "relationships = pd.read_csv(relationships_file, delimiter='\\t')\n",
    "descriptions = pd.read_csv(descriptions_file, delimiter='\\t')\n",
    "concept_dict = dict(zip(descriptions['conceptId'], descriptions['term']))\n",
    "\n",
    "# Read patient data\n",
    "all_events = pd.read_csv('data/events.csv')"
   ]
  },
  {
   "cell_type": "code",
   "execution_count": 9,
   "metadata": {},
   "outputs": [],
   "source": [
    "# Define Cohort\n",
    "covid_detected = 1240581000000104\n",
    "\n",
    "# Define Class Label\n",
    "death = 419099009\n",
    "\n",
    "# Identify patients who had covid\n",
    "covid_patients = all_events[all_events['snomedCode'] == covid_detected]['patient_id'].unique()\n",
    "X = all_events[all_events['patient_id'].isin(covid_patients)]\n",
    "\n",
    "# Identify patients who died\n",
    "patients_died = X[X['snomedCode'] == death]['patient_id'].unique()\n",
    "y = pd.DataFrame(covid_patients, columns=['patient_id'])\n",
    "y['label'] = y['patient_id'].isin(patients_died).astype(int)\n",
    "y_dict = dict(zip(y['patient_id'], y['label']))\n",
    "\n",
    "# Remove death code from X\n",
    "X = X[~(X['snomedCode'] == death)].reset_index(drop=True)"
   ]
  },
  {
   "cell_type": "code",
   "execution_count": 10,
   "metadata": {},
   "outputs": [
    {
     "name": "stderr",
     "output_type": "stream",
     "text": [
      "Building Graph: 100%|██████████| 1179020/1179020 [01:22<00:00, 14368.31it/s]\n",
      "Assigning Attributes: 100%|██████████| 8198/8198 [02:38<00:00, 51.62it/s]\n",
      "Updating Nodes: 100%|██████████| 8198/8198 [00:50<00:00, 162.95it/s]\n",
      "Mapping Nodes: 100%|██████████| 8198/8198 [00:21<00:00, 388.79it/s]\n",
      "Scoring Nodes: 100%|██████████| 8198/8198 [00:00<00:00, 278476.65it/s]\n",
      "Weighting Node Scores: 100%|██████████| 8198/8198 [00:00<00:00, 417196.33it/s]\n"
     ]
    },
    {
     "name": "stdout",
     "output_type": "stream",
     "text": [
      "\n",
      "Top 10 features:\n",
      "882784691000119100 - Pneumonia caused by severe acute respiratory syndrome coronavirus 2 (disorder) - 0.936779616745423\n",
      "238131007 - Overweight (finding) - 0.430314988559284\n",
      "73211009 - Diabetes mellitus (disorder) - 0.3588325397803898\n",
      "38341003 - Hypertensive disorder, systemic arterial - 0.24094321115214526\n",
      "5476005 - Adiposity (disorder) - 0.19735184616523635\n",
      "248842004 - Female genitalia observations - 0.16320999618217288\n",
      "363104002 - Hereditary disorder of endocrine system - 0.1207727486838512\n",
      "398302004 - Facial dysmorphism - 0.11106984392901625\n",
      "400038003 - Multiple congenital anomalies - 0.1061853379727229\n",
      "116022009 - Multiple congenital malformations (disorder) - 0.1061853379727229\n"
     ]
    }
   ],
   "source": [
    "# Construct model\n",
    "g = SNOMEDGraphTool(relationships, descriptions, X, y_dict)\n",
    "\n",
    "# Define scorer\n",
    "label_totals = dict(y['label'].value_counts())\n",
    "scorer = lambda g, node: agg_difference(g, node, label_totals)\n",
    "\n",
    "# Identify eligbible nodes to be used to form a predictive model\n",
    "eligble_nodes = g.get_eligible_nodes(scorer, X['patient_id'].nunique(), rarity_threshold=0.05, min_depth=0.5, weight=0.2)\n",
    "\n",
    "print('\\nTop 10 features:')\n",
    "for i in eligble_nodes[:10]:\n",
    "    print(f\"{i[0]} - {i[1]['label']} - {i[1]['weighted_score']}\")"
   ]
  }
 ],
 "metadata": {
  "kernelspec": {
   "display_name": "Fall Risk",
   "language": "python",
   "name": "fall-risk"
  },
  "language_info": {
   "codemirror_mode": {
    "name": "ipython",
    "version": 3
   },
   "file_extension": ".py",
   "mimetype": "text/x-python",
   "name": "python",
   "nbconvert_exporter": "python",
   "pygments_lexer": "ipython3",
   "version": "3.9.18"
  }
 },
 "nbformat": 4,
 "nbformat_minor": 2
}
