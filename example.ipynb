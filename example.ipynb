{
 "cells": [
  {
   "cell_type": "code",
   "execution_count": 1,
   "metadata": {},
   "outputs": [],
   "source": [
    "from src.snomedFS import determine_best_concepts"
   ]
  },
  {
   "cell_type": "code",
   "execution_count": 3,
   "metadata": {},
   "outputs": [],
   "source": [
    "# Specify file paths for the required data\n",
    "child_parents_path = 'data/knowledge-graph-child-parent.csv'\n",
    "instance_data_path = 'data/instance-data.csv'\n",
    "cohort_path = 'data/cohorts.csv'\n",
    "\n",
    "# Initialise the feature selector\n",
    "feature_selector = determine_best_concepts(child_parents_path = child_parents_path,\n",
    "                                           instance_data_path = instance_data_path,\n",
    "                                           groups_path = cohort_path)\n",
    "\n",
    "# Identify the top 10 SNOMED CT concepts for predicting the class label, which have a minimum difference score of 0.05\n",
    "min_diff = 0.05\n",
    "n_features = 10\n",
    "selected_features = feature_selector.select_concepts(min_diff, n_features)\n",
    "print('Selected Concepts: ', selected_features)"
   ]
  }
 ],
 "metadata": {
  "kernelspec": {
   "display_name": "PC-LUNG",
   "language": "python",
   "name": "pc-lung"
  },
  "language_info": {
   "codemirror_mode": {
    "name": "ipython",
    "version": 3
   },
   "file_extension": ".py",
   "mimetype": "text/x-python",
   "name": "python",
   "nbconvert_exporter": "python",
   "pygments_lexer": "ipython3",
   "version": "3.7.16"
  }
 },
 "nbformat": 4,
 "nbformat_minor": 2
}
